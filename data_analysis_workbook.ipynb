{
 "cells": [
  {
   "cell_type": "markdown",
   "metadata": {},
   "source": [
    "# Import Dependencies"
   ]
  },
  {
   "cell_type": "code",
   "execution_count": 5,
   "metadata": {},
   "outputs": [],
   "source": [
    "import pandas as pd"
   ]
  },
  {
   "cell_type": "markdown",
   "metadata": {},
   "source": [
    "# Read data file to dict of pandas dataframes"
   ]
  },
  {
   "cell_type": "code",
   "execution_count": null,
   "metadata": {},
   "outputs": [],
   "source": [
    "db_file = './data/question_database_schema.xlsx'\n",
    "dict_of_dfs = pd.read_excel(db_file, sheet_name = None)\n",
    "\n",
    "print(dict_of_dfs.keys())"
   ]
  },
  {
   "cell_type": "code",
   "execution_count": null,
   "metadata": {},
   "outputs": [],
   "source": [
    "print(dict_of_dfs['exams'])"
   ]
  },
  {
   "cell_type": "markdown",
   "metadata": {},
   "source": [
    "# Exam descriptions\n",
    "\n",
    "### Number of exams: 4\n",
    "\n",
    "- Exam 1: \n",
    "    - 2 forms (A, B)\n",
    "    - 16 Questions\n",
    "      - 2 with 5 options\n",
    "      - 14 with 4 options\n",
    "- Exam 2: 3 forms (A, B, C)\n",
    "    - 16 Questions\n",
    "      - 1 with 3 options\n",
    "      - 15 with 4 options\n",
    "- Exam 3: 3 forms (A, B, C)\n",
    "    - 17 Questions\n",
    "      - 17 with 4 options\n",
    "- Exam 4: 3 forms (A, B, C)\n",
    "    - 26 Questions\n",
    "      - 25 with 4 options\n",
    "      - 1 with 3 options (which form of the exam do you have?)\n"
   ]
  },
  {
   "cell_type": "code",
   "execution_count": null,
   "metadata": {},
   "outputs": [],
   "source": [
    "completed_answer_choices = dict_of_dfs['answer_choices']\n",
    "student_responses        = dict_of_dfs['student_question_responses']\n",
    "#convert option_id to number indexed at 1.\n",
    "if 'A' in pd.unique(completed_answer_choices['option_id']):\n",
    "    completed_answer_choices['option_id'] = completed_answer_choices['option_id'] = [ ord(letter) - 64 for letter in completed_answer_choices['option_id'] ]\n",
    "\n",
    "student_responses = student_responses[student_responses['question_id'].isin(pd.unique(completed_answer_choices['question_id']))]\n",
    "\n",
    "student_responses_with_details = pd.merge(\n",
    "    left=student_responses, \n",
    "    right=completed_answer_choices,\n",
    "    how='left',\n",
    "    left_on=['question_id', 'selected_option'],\n",
    "    right_on=['question_id', 'option_id'],\n",
    ")\n",
    "\n",
    "\n",
    "number_of_distractors_chosen = len(student_responses_with_details[student_responses_with_details['is_distractor'] < .5])\n",
    "number_of_correct_answers_chosen = len(student_responses_with_details[student_responses_with_details['is_distractor'] > .5])\n",
    "number_of_questions = len(student_responses_with_details)\n",
    "\n",
    "print(f\"Number of questions: {number_of_questions}.\\nNumber of correct answers chosen: {number_of_correct_answers_chosen}.\\nNumber of distractors chosen: {number_of_distractors_chosen}\")"
   ]
  },
  {
   "cell_type": "code",
   "execution_count": 9,
   "metadata": {},
   "outputs": [],
   "source": [
    "number_of_solution_based_distractors = len(student_responses_with_details[student_responses_with_details['distractor_type'] == 2])"
   ]
  },
  {
   "cell_type": "code",
   "execution_count": null,
   "metadata": {},
   "outputs": [],
   "source": [
    "print(f\"Number of distractors chosen: {number_of_distractors_chosen}. Number of solution-based distractors chosen: {number_of_solution_based_distractors}\")"
   ]
  },
  {
   "cell_type": "code",
   "execution_count": null,
   "metadata": {},
   "outputs": [],
   "source": [
    "completed_answer_choices"
   ]
  },
  {
   "cell_type": "code",
   "execution_count": null,
   "metadata": {},
   "outputs": [],
   "source": [
    "distractor_count_frame = completed_answer_choices.groupby(by = 'distractor_type').count()[\"question_id\"].reset_index().rename(columns = {\"question_id\": \"count\", \"distractor_type\": \"distractor_id\"})\n",
    "\n",
    "distractor_count_frame = pd.merge(\n",
    "    left=distractor_count_frame, \n",
    "    right=dict_of_dfs['distractor_type'],\n",
    "    how='left',\n",
    "    left_on=['distractor_id'],\n",
    "    right_on=['distractor_id'],\n",
    ")\n",
    "distractor_count_frame"
   ]
  },
  {
   "cell_type": "code",
   "execution_count": null,
   "metadata": {},
   "outputs": [],
   "source": []
  },
  {
   "cell_type": "code",
   "execution_count": null,
   "metadata": {},
   "outputs": [],
   "source": []
  }
 ],
 "metadata": {
  "kernelspec": {
   "display_name": "Python 3",
   "language": "python",
   "name": "python3"
  },
  "language_info": {
   "codemirror_mode": {
    "name": "ipython",
    "version": 3
   },
   "file_extension": ".py",
   "mimetype": "text/x-python",
   "name": "python",
   "nbconvert_exporter": "python",
   "pygments_lexer": "ipython3",
   "version": "3.9.6"
  }
 },
 "nbformat": 4,
 "nbformat_minor": 2
}
