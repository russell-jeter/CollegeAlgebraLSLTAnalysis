{
 "cells": [
  {
   "cell_type": "markdown",
   "metadata": {},
   "source": [
    "# Import Dependencies"
   ]
  },
  {
   "cell_type": "code",
   "execution_count": 18,
   "metadata": {},
   "outputs": [],
   "source": [
    "import pandas as pd"
   ]
  },
  {
   "cell_type": "markdown",
   "metadata": {},
   "source": [
    "# Read data file to dict of pandas dataframes"
   ]
  },
  {
   "cell_type": "code",
   "execution_count": 19,
   "metadata": {},
   "outputs": [
    {
     "name": "stdout",
     "output_type": "stream",
     "text": [
      "dict_keys(['learning_objectives', 'course_objective_description', 'questions', 'answer_choices', 'exams', 'exams_learning_objectives', 'distractor_type', 'student_question_responses'])\n"
     ]
    }
   ],
   "source": [
    "db_file = './data/question_database_schema.xlsx'\n",
    "dict_of_dfs = pd.read_excel(db_file, sheet_name = None)\n",
    "\n",
    "print(dict_of_dfs.keys())"
   ]
  },
  {
   "cell_type": "code",
   "execution_count": 20,
   "metadata": {},
   "outputs": [
    {
     "name": "stdout",
     "output_type": "stream",
     "text": [
      "   exam_id  exam_number exam_form_id\n",
      "0       1A            1            A\n",
      "1       1B            1            B\n",
      "2       2A            2            A\n",
      "3       2B            2            B\n",
      "4       2C            2            C\n",
      "5       3A            3            A\n",
      "6       3B            3            B\n",
      "7       3C            3            C\n",
      "8       4A            4            A\n",
      "9       4B            4            B\n",
      "10      4C            4            C\n"
     ]
    }
   ],
   "source": [
    "print(dict_of_dfs['exams'])"
   ]
  },
  {
   "cell_type": "markdown",
   "metadata": {},
   "source": [
    "# Exam descriptions\n",
    "\n",
    "### Number of exams: 4\n",
    "\n",
    "- Exam 1: \n",
    "    - 2 forms (A, B)\n",
    "    - 16 Questions\n",
    "      - 2 with 5 options\n",
    "      - 14 with 4 options\n",
    "- Exam 2: 3 forms (A, B, C)\n",
    "    - 16 Questions\n",
    "      - 1 with 3 options\n",
    "      - 15 with 4 options\n",
    "- Exam 3: 3 forms (A, B, C)\n",
    "    - 17 Questions\n",
    "      - 17 with 4 options\n",
    "- Exam 4: 3 forms (A, B, C)\n",
    "    - 26 Questions\n",
    "      - 25 with 4 options\n",
    "      - 1 with 3 options (which form of the exam do you have?)\n"
   ]
  },
  {
   "cell_type": "code",
   "execution_count": 21,
   "metadata": {},
   "outputs": [
    {
     "name": "stdout",
     "output_type": "stream",
     "text": [
      "Number of questions: 16853.\n",
      "Number of correct answers chosen: 12535.\n",
      "Number of distractors chosen: 4247\n"
     ]
    }
   ],
   "source": [
    "completed_answer_choices = dict_of_dfs['answer_choices']\n",
    "student_responses        = dict_of_dfs['student_question_responses']\n",
    "#convert option_id to number indexed at 1.\n",
    "if 'A' in pd.unique(completed_answer_choices['option_id']):\n",
    "    completed_answer_choices['option_id'] = completed_answer_choices['option_id'] = [ ord(letter) - 64 for letter in completed_answer_choices['option_id'] ]\n",
    "\n",
    "student_responses = student_responses[student_responses['question_id'].isin(pd.unique(completed_answer_choices['question_id']))]\n",
    "\n",
    "student_responses_with_details = pd.merge(\n",
    "    left=student_responses, \n",
    "    right=completed_answer_choices,\n",
    "    how='left',\n",
    "    left_on=['question_id', 'selected_option'],\n",
    "    right_on=['question_id', 'option_id'],\n",
    ")\n",
    "\n",
    "number_of_distractors_chosen = len(student_responses_with_details[student_responses_with_details['is_distractor'] > .5])\n",
    "number_of_correct_answers_chosen = len(student_responses_with_details[student_responses_with_details['is_distractor'] < .5])\n",
    "number_of_questions = len(student_responses_with_details)\n",
    "\n",
    "print(f\"Number of questions: {number_of_questions}.\\nNumber of correct answers chosen: {number_of_correct_answers_chosen}.\\nNumber of distractors chosen: {number_of_distractors_chosen}\")"
   ]
  },
  {
   "cell_type": "code",
   "execution_count": 22,
   "metadata": {},
   "outputs": [],
   "source": [
    "number_of_solution_based_distractors = len(student_responses_with_details[student_responses_with_details['distractor_type'] == 2])"
   ]
  },
  {
   "cell_type": "code",
   "execution_count": 23,
   "metadata": {},
   "outputs": [
    {
     "name": "stdout",
     "output_type": "stream",
     "text": [
      "Number of distractors chosen: 4247. Number of solution-based distractors chosen: 1799\n"
     ]
    }
   ],
   "source": [
    "print(f\"Number of distractors chosen: {number_of_distractors_chosen}. Number of solution-based distractors chosen: {number_of_solution_based_distractors}\")"
   ]
  },
  {
   "cell_type": "code",
   "execution_count": 24,
   "metadata": {},
   "outputs": [
    {
     "data": {
      "text/html": [
       "<div>\n",
       "<style scoped>\n",
       "    .dataframe tbody tr th:only-of-type {\n",
       "        vertical-align: middle;\n",
       "    }\n",
       "\n",
       "    .dataframe tbody tr th {\n",
       "        vertical-align: top;\n",
       "    }\n",
       "\n",
       "    .dataframe thead th {\n",
       "        text-align: right;\n",
       "    }\n",
       "</style>\n",
       "<table border=\"1\" class=\"dataframe\">\n",
       "  <thead>\n",
       "    <tr style=\"text-align: right;\">\n",
       "      <th></th>\n",
       "      <th>question_id</th>\n",
       "      <th>option_id</th>\n",
       "      <th>is_distractor</th>\n",
       "      <th>distractor_type</th>\n",
       "      <th>distractor_learning_objective_understanding</th>\n",
       "      <th>notes</th>\n",
       "    </tr>\n",
       "  </thead>\n",
       "  <tbody>\n",
       "    <tr>\n",
       "      <th>0</th>\n",
       "      <td>1A01</td>\n",
       "      <td>1</td>\n",
       "      <td>1</td>\n",
       "      <td>2</td>\n",
       "      <td>66.0</td>\n",
       "      <td>Ignore middle term</td>\n",
       "    </tr>\n",
       "    <tr>\n",
       "      <th>1</th>\n",
       "      <td>1A01</td>\n",
       "      <td>2</td>\n",
       "      <td>1</td>\n",
       "      <td>2</td>\n",
       "      <td>66.0</td>\n",
       "      <td>Ignore middle term</td>\n",
       "    </tr>\n",
       "    <tr>\n",
       "      <th>2</th>\n",
       "      <td>1A01</td>\n",
       "      <td>3</td>\n",
       "      <td>1</td>\n",
       "      <td>5</td>\n",
       "      <td>66.0</td>\n",
       "      <td>7*8=56 vs 54</td>\n",
       "    </tr>\n",
       "    <tr>\n",
       "      <th>3</th>\n",
       "      <td>1A01</td>\n",
       "      <td>4</td>\n",
       "      <td>1</td>\n",
       "      <td>5</td>\n",
       "      <td>66.0</td>\n",
       "      <td>7*8=56 vs 54</td>\n",
       "    </tr>\n",
       "    <tr>\n",
       "      <th>4</th>\n",
       "      <td>1A01</td>\n",
       "      <td>5</td>\n",
       "      <td>0</td>\n",
       "      <td>0</td>\n",
       "      <td>66.0</td>\n",
       "      <td>Trinomial is prime</td>\n",
       "    </tr>\n",
       "    <tr>\n",
       "      <th>...</th>\n",
       "      <td>...</td>\n",
       "      <td>...</td>\n",
       "      <td>...</td>\n",
       "      <td>...</td>\n",
       "      <td>...</td>\n",
       "      <td>...</td>\n",
       "    </tr>\n",
       "    <tr>\n",
       "      <th>820</th>\n",
       "      <td>4C25</td>\n",
       "      <td>4</td>\n",
       "      <td>1</td>\n",
       "      <td>6</td>\n",
       "      <td>NaN</td>\n",
       "      <td>NaN</td>\n",
       "    </tr>\n",
       "    <tr>\n",
       "      <th>821</th>\n",
       "      <td>4C26</td>\n",
       "      <td>1</td>\n",
       "      <td>1</td>\n",
       "      <td>1</td>\n",
       "      <td>NaN</td>\n",
       "      <td>NaN</td>\n",
       "    </tr>\n",
       "    <tr>\n",
       "      <th>822</th>\n",
       "      <td>4C26</td>\n",
       "      <td>2</td>\n",
       "      <td>1</td>\n",
       "      <td>7</td>\n",
       "      <td>NaN</td>\n",
       "      <td>NaN</td>\n",
       "    </tr>\n",
       "    <tr>\n",
       "      <th>823</th>\n",
       "      <td>4C26</td>\n",
       "      <td>3</td>\n",
       "      <td>0</td>\n",
       "      <td>0</td>\n",
       "      <td>NaN</td>\n",
       "      <td>NaN</td>\n",
       "    </tr>\n",
       "    <tr>\n",
       "      <th>824</th>\n",
       "      <td>4C26</td>\n",
       "      <td>4</td>\n",
       "      <td>1</td>\n",
       "      <td>7</td>\n",
       "      <td>NaN</td>\n",
       "      <td>NaN</td>\n",
       "    </tr>\n",
       "  </tbody>\n",
       "</table>\n",
       "<p>825 rows × 6 columns</p>\n",
       "</div>"
      ],
      "text/plain": [
       "    question_id  option_id  is_distractor  distractor_type  \\\n",
       "0          1A01          1              1                2   \n",
       "1          1A01          2              1                2   \n",
       "2          1A01          3              1                5   \n",
       "3          1A01          4              1                5   \n",
       "4          1A01          5              0                0   \n",
       "..          ...        ...            ...              ...   \n",
       "820        4C25          4              1                6   \n",
       "821        4C26          1              1                1   \n",
       "822        4C26          2              1                7   \n",
       "823        4C26          3              0                0   \n",
       "824        4C26          4              1                7   \n",
       "\n",
       "     distractor_learning_objective_understanding               notes  \n",
       "0                                           66.0  Ignore middle term  \n",
       "1                                           66.0  Ignore middle term  \n",
       "2                                           66.0        7*8=56 vs 54  \n",
       "3                                           66.0        7*8=56 vs 54  \n",
       "4                                           66.0  Trinomial is prime  \n",
       "..                                           ...                 ...  \n",
       "820                                          NaN                 NaN  \n",
       "821                                          NaN                 NaN  \n",
       "822                                          NaN                 NaN  \n",
       "823                                          NaN                 NaN  \n",
       "824                                          NaN                 NaN  \n",
       "\n",
       "[825 rows x 6 columns]"
      ]
     },
     "execution_count": 24,
     "metadata": {},
     "output_type": "execute_result"
    }
   ],
   "source": [
    "completed_answer_choices"
   ]
  },
  {
   "cell_type": "code",
   "execution_count": 30,
   "metadata": {},
   "outputs": [],
   "source": [
    "exam_question_distractor_count_frame = completed_answer_choices.groupby(by = 'distractor_type').count()[\"question_id\"].reset_index().rename(columns = {\"question_id\": \"count\", \"distractor_type\": \"distractor_id\"})\n",
    "\n",
    "exam_question_distractor_count_frame = pd.merge(\n",
    "    left=exam_question_distractor_count_frame, \n",
    "    right=dict_of_dfs['distractor_type'],\n",
    "    how='left',\n",
    "    left_on=['distractor_id'],\n",
    "    right_on=['distractor_id'],\n",
    ")\n",
    "exam_question_distractor_count_frame"
   ]
  },
  {
   "cell_type": "code",
   "execution_count": 32,
   "metadata": {},
   "outputs": [
    {
     "data": {
      "text/plain": [
       "0    0.746931\n",
       "1    0.096115\n",
       "2    0.107198\n",
       "3    0.000536\n",
       "4    0.001907\n",
       "5    0.015731\n",
       "6    0.012335\n",
       "7    0.018174\n",
       "8    0.001073\n",
       "Name: percent, dtype: float64"
      ]
     },
     "metadata": {},
     "output_type": "display_data"
    }
   ],
   "source": [
    "student_responses_distractor_selection_counts = student_responses_with_details.groupby(by = 'distractor_type').count()[\"question_id\"].reset_index().rename(columns = {\"question_id\": \"count\", \"distractor_type\": \"distractor_id\"})\n",
    "student_responses_distractor_selection_counts = pd.merge(\n",
    "    left=student_responses_distractor_selection_counts, \n",
    "    right=dict_of_dfs['distractor_type'],\n",
    "    how='left',\n",
    "    left_on=['distractor_id'],\n",
    "    right_on=['distractor_id'],\n",
    ")\n",
    "student_responses_distractor_selection_counts[\"percent\"] = student_responses_distractor_selection_counts[\"count\"] / student_responses_distractor_selection_counts[\"count\"].sum() \n",
    "display(student_responses_distractor_selection_counts)"
   ]
  },
  {
   "cell_type": "code",
   "execution_count": null,
   "metadata": {},
   "outputs": [],
   "source": []
  }
 ],
 "metadata": {
  "kernelspec": {
   "display_name": "usr",
   "language": "python",
   "name": "python3"
  },
  "language_info": {
   "codemirror_mode": {
    "name": "ipython",
    "version": 3
   },
   "file_extension": ".py",
   "mimetype": "text/x-python",
   "name": "python",
   "nbconvert_exporter": "python",
   "pygments_lexer": "ipython3",
   "version": "3.10.12"
  }
 },
 "nbformat": 4,
 "nbformat_minor": 2
}
