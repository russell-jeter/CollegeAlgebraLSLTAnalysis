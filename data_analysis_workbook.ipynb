{
 "cells": [
  {
   "cell_type": "markdown",
   "metadata": {},
   "source": [
    "# Import Dependencies"
   ]
  },
  {
   "cell_type": "code",
   "execution_count": 2,
   "metadata": {},
   "outputs": [],
   "source": [
    "import pandas as pd"
   ]
  },
  {
   "cell_type": "markdown",
   "metadata": {},
   "source": [
    "# Read data file to dict of pandas dataframes"
   ]
  },
  {
   "cell_type": "code",
   "execution_count": 4,
   "metadata": {},
   "outputs": [
    {
     "name": "stdout",
     "output_type": "stream",
     "text": [
      "dict_keys(['learning_objectives', 'course_objective_description', 'questions', 'answer_choices', 'exams', 'exams_learning_objectives', 'distractor_type', 'student_question_responses'])\n"
     ]
    }
   ],
   "source": [
    "db_file = './data/question_database_schema.xlsx'\n",
    "dict_of_dfs = pd.read_excel(db_file, sheet_name = None)\n",
    "\n",
    "print(dict_of_dfs.keys())"
   ]
  },
  {
   "cell_type": "code",
   "execution_count": 6,
   "metadata": {},
   "outputs": [
    {
     "name": "stdout",
     "output_type": "stream",
     "text": [
      "   exam_id  exam_number exam_form_id\n",
      "0       1A            1            A\n",
      "1       1B            1            B\n",
      "2       2A            2            A\n",
      "3       2B            2            B\n",
      "4       2C            2            C\n",
      "5       3A            3            A\n",
      "6       3B            3            B\n",
      "7       3C            3            C\n",
      "8       4A            4            A\n",
      "9       4B            4            B\n",
      "10      4C            4            C\n"
     ]
    }
   ],
   "source": [
    "print(dict_of_dfs['exams'])"
   ]
  },
  {
   "cell_type": "markdown",
   "metadata": {},
   "source": [
    "# Exam descriptions\n",
    "\n",
    "### Number of exams: 4\n",
    "\n",
    "- Exam 1: \n",
    "    - 2 forms (A, B)\n",
    "    - 16 Questions\n",
    "      - 2 with 5 options\n",
    "      - 14 with 4 options\n",
    "- Exam 2: 3 forms (A, B, C)\n",
    "    - 16 Questions\n",
    "      - 1 with 3 options\n",
    "      - 15 with 4 options\n",
    "- Exam 3: 3 forms (A, B, C)\n",
    "    - 17 Questions\n",
    "      - 17 with 4 options\n",
    "- Exam 4: 3 forms (A, B, C)\n",
    "    - 26 Questions\n",
    "      - 25 with 4 options\n",
    "      - 1 with 3 options (which form of the exam do you have?)\n"
   ]
  },
  {
   "cell_type": "code",
   "execution_count": 22,
   "metadata": {},
   "outputs": [],
   "source": [
    "completed_answer_choices = dict_of_dfs['answer_choices']\n",
    "student_responses        = dict_of_dfs['student_question_responses']\n",
    "#convert option_id to number indexed at 1.\n",
    "if 'A' in pd.unique(completed_answer_choices['option_id']):\n",
    "    completed_answer_choices['option_id'] = completed_answer_choices['option_id'] = [ ord(letter) - 64 for letter in completed_answer_choices['option_id'] ]\n",
    "\n",
    "student_responses = student_responses[student_responses['question_id'].isin(pd.unique(completed_answer_choices['question_id']))]\n",
    "\n",
    "student_responses_with_details = pd.merge(\n",
    "    left=student_responses, \n",
    "    right=completed_answer_choices,\n",
    "    how='left',\n",
    "    left_on=['question_id', 'selected_option'],\n",
    "    right_on=['question_id', 'option_id'],\n",
    ")\n",
    "\n",
    "student_responses_with_details\n",
    "\n",
    "\n",
    "number_of_distractors_chosen = len(student_responses_with_details[student_responses_with_details['is_distractor'] < .5])\n",
    "number_of_correct_answers_chosen = len(student_responses_with_details[student_responses_with_details['is_distractor'] > .5])\n",
    "number_of_questions = len(student_responses_with_details)\n",
    "\n",
    "print(f\"Number of questions: {number_of_questions}.\\nNumber of correct answers chosen: {number_of_correct_answers_chosen}.\\nNumber of distractors chosen: {number_of_distractors_chosen}\")"
   ]
  },
  {
   "cell_type": "code",
   "execution_count": null,
   "metadata": {},
   "outputs": [],
   "source": []
  }
 ],
 "metadata": {
  "kernelspec": {
   "display_name": "base",
   "language": "python",
   "name": "python3"
  },
  "language_info": {
   "codemirror_mode": {
    "name": "ipython",
    "version": 3
   },
   "file_extension": ".py",
   "mimetype": "text/x-python",
   "name": "python",
   "nbconvert_exporter": "python",
   "pygments_lexer": "ipython3",
   "version": "3.12.2"
  }
 },
 "nbformat": 4,
 "nbformat_minor": 2
}
