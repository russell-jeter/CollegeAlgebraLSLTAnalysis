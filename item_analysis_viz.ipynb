{
 "cells": [
  {
   "cell_type": "code",
   "execution_count": 1,
   "metadata": {},
   "outputs": [],
   "source": [
    "import pandas as pd"
   ]
  },
  {
   "cell_type": "markdown",
   "metadata": {},
   "source": [
    "## Item Analysis"
   ]
  },
  {
   "cell_type": "code",
   "execution_count": 2,
   "metadata": {},
   "outputs": [],
   "source": [
    "df = pd.read_excel('item_summary.xlsx')"
   ]
  },
  {
   "cell_type": "code",
   "execution_count": 3,
   "metadata": {},
   "outputs": [
    {
     "data": {
      "text/html": [
       "<div>\n",
       "<style scoped>\n",
       "    .dataframe tbody tr th:only-of-type {\n",
       "        vertical-align: middle;\n",
       "    }\n",
       "\n",
       "    .dataframe tbody tr th {\n",
       "        vertical-align: top;\n",
       "    }\n",
       "\n",
       "    .dataframe thead th {\n",
       "        text-align: right;\n",
       "    }\n",
       "</style>\n",
       "<table border=\"1\" class=\"dataframe\">\n",
       "  <thead>\n",
       "    <tr style=\"text-align: right;\">\n",
       "      <th></th>\n",
       "      <th>question_id</th>\n",
       "      <th>var_estimates_items</th>\n",
       "      <th>outfit_items</th>\n",
       "      <th>infit_items</th>\n",
       "      <th>is_outfit_outlier</th>\n",
       "      <th>is_infit_outlier</th>\n",
       "      <th>pbc</th>\n",
       "      <th>p_value</th>\n",
       "      <th>student_response_count</th>\n",
       "      <th>item_difficulty</th>\n",
       "    </tr>\n",
       "  </thead>\n",
       "  <tbody>\n",
       "    <tr>\n",
       "      <th>0</th>\n",
       "      <td>3B08</td>\n",
       "      <td>5.985516</td>\n",
       "      <td>3.723936</td>\n",
       "      <td>1.226459</td>\n",
       "      <td>1</td>\n",
       "      <td>0</td>\n",
       "      <td>-0.035498</td>\n",
       "      <td>0.041667</td>\n",
       "      <td>3</td>\n",
       "      <td>0.041667</td>\n",
       "    </tr>\n",
       "    <tr>\n",
       "      <th>1</th>\n",
       "      <td>4B26</td>\n",
       "      <td>4.275893</td>\n",
       "      <td>4.318201</td>\n",
       "      <td>1.220295</td>\n",
       "      <td>1</td>\n",
       "      <td>0</td>\n",
       "      <td>-0.113086</td>\n",
       "      <td>0.093333</td>\n",
       "      <td>7</td>\n",
       "      <td>0.093333</td>\n",
       "    </tr>\n",
       "    <tr>\n",
       "      <th>2</th>\n",
       "      <td>4A26</td>\n",
       "      <td>3.974136</td>\n",
       "      <td>1.023777</td>\n",
       "      <td>1.069558</td>\n",
       "      <td>0</td>\n",
       "      <td>0</td>\n",
       "      <td>0.125952</td>\n",
       "      <td>0.105263</td>\n",
       "      <td>8</td>\n",
       "      <td>0.105263</td>\n",
       "    </tr>\n",
       "    <tr>\n",
       "      <th>3</th>\n",
       "      <td>3A13</td>\n",
       "      <td>3.786356</td>\n",
       "      <td>5.663023</td>\n",
       "      <td>0.954613</td>\n",
       "      <td>1</td>\n",
       "      <td>0</td>\n",
       "      <td>0.182533</td>\n",
       "      <td>0.240000</td>\n",
       "      <td>18</td>\n",
       "      <td>0.240000</td>\n",
       "    </tr>\n",
       "    <tr>\n",
       "      <th>4</th>\n",
       "      <td>3C13</td>\n",
       "      <td>3.226543</td>\n",
       "      <td>0.956326</td>\n",
       "      <td>0.927352</td>\n",
       "      <td>0</td>\n",
       "      <td>0</td>\n",
       "      <td>0.253169</td>\n",
       "      <td>0.301370</td>\n",
       "      <td>22</td>\n",
       "      <td>0.301370</td>\n",
       "    </tr>\n",
       "    <tr>\n",
       "      <th>...</th>\n",
       "      <td>...</td>\n",
       "      <td>...</td>\n",
       "      <td>...</td>\n",
       "      <td>...</td>\n",
       "      <td>...</td>\n",
       "      <td>...</td>\n",
       "      <td>...</td>\n",
       "      <td>...</td>\n",
       "      <td>...</td>\n",
       "      <td>...</td>\n",
       "    </tr>\n",
       "    <tr>\n",
       "      <th>199</th>\n",
       "      <td>3A01</td>\n",
       "      <td>-2.561277</td>\n",
       "      <td>1.509550</td>\n",
       "      <td>0.867743</td>\n",
       "      <td>1</td>\n",
       "      <td>0</td>\n",
       "      <td>0.223430</td>\n",
       "      <td>0.973333</td>\n",
       "      <td>73</td>\n",
       "      <td>0.973333</td>\n",
       "    </tr>\n",
       "    <tr>\n",
       "      <th>200</th>\n",
       "      <td>3B01</td>\n",
       "      <td>-2.607382</td>\n",
       "      <td>0.219776</td>\n",
       "      <td>0.770868</td>\n",
       "      <td>0</td>\n",
       "      <td>0</td>\n",
       "      <td>0.399218</td>\n",
       "      <td>0.972222</td>\n",
       "      <td>70</td>\n",
       "      <td>0.972222</td>\n",
       "    </tr>\n",
       "    <tr>\n",
       "      <th>201</th>\n",
       "      <td>4C09</td>\n",
       "      <td>-2.684263</td>\n",
       "      <td>0.225821</td>\n",
       "      <td>0.936468</td>\n",
       "      <td>0</td>\n",
       "      <td>0</td>\n",
       "      <td>0.235984</td>\n",
       "      <td>0.986486</td>\n",
       "      <td>73</td>\n",
       "      <td>0.986486</td>\n",
       "    </tr>\n",
       "    <tr>\n",
       "      <th>202</th>\n",
       "      <td>4A05</td>\n",
       "      <td>-2.829825</td>\n",
       "      <td>0.148825</td>\n",
       "      <td>0.787320</td>\n",
       "      <td>0</td>\n",
       "      <td>0</td>\n",
       "      <td>0.423354</td>\n",
       "      <td>0.973684</td>\n",
       "      <td>74</td>\n",
       "      <td>0.973684</td>\n",
       "    </tr>\n",
       "    <tr>\n",
       "      <th>203</th>\n",
       "      <td>4A06</td>\n",
       "      <td>-2.829825</td>\n",
       "      <td>0.184548</td>\n",
       "      <td>0.857475</td>\n",
       "      <td>0</td>\n",
       "      <td>0</td>\n",
       "      <td>0.377610</td>\n",
       "      <td>0.973684</td>\n",
       "      <td>74</td>\n",
       "      <td>0.973684</td>\n",
       "    </tr>\n",
       "  </tbody>\n",
       "</table>\n",
       "<p>204 rows × 10 columns</p>\n",
       "</div>"
      ],
      "text/plain": [
       "    question_id  var_estimates_items  outfit_items  infit_items  \\\n",
       "0          3B08             5.985516      3.723936     1.226459   \n",
       "1          4B26             4.275893      4.318201     1.220295   \n",
       "2          4A26             3.974136      1.023777     1.069558   \n",
       "3          3A13             3.786356      5.663023     0.954613   \n",
       "4          3C13             3.226543      0.956326     0.927352   \n",
       "..          ...                  ...           ...          ...   \n",
       "199        3A01            -2.561277      1.509550     0.867743   \n",
       "200        3B01            -2.607382      0.219776     0.770868   \n",
       "201        4C09            -2.684263      0.225821     0.936468   \n",
       "202        4A05            -2.829825      0.148825     0.787320   \n",
       "203        4A06            -2.829825      0.184548     0.857475   \n",
       "\n",
       "     is_outfit_outlier  is_infit_outlier       pbc   p_value  \\\n",
       "0                    1                 0 -0.035498  0.041667   \n",
       "1                    1                 0 -0.113086  0.093333   \n",
       "2                    0                 0  0.125952  0.105263   \n",
       "3                    1                 0  0.182533  0.240000   \n",
       "4                    0                 0  0.253169  0.301370   \n",
       "..                 ...               ...       ...       ...   \n",
       "199                  1                 0  0.223430  0.973333   \n",
       "200                  0                 0  0.399218  0.972222   \n",
       "201                  0                 0  0.235984  0.986486   \n",
       "202                  0                 0  0.423354  0.973684   \n",
       "203                  0                 0  0.377610  0.973684   \n",
       "\n",
       "     student_response_count  item_difficulty  \n",
       "0                         3         0.041667  \n",
       "1                         7         0.093333  \n",
       "2                         8         0.105263  \n",
       "3                        18         0.240000  \n",
       "4                        22         0.301370  \n",
       "..                      ...              ...  \n",
       "199                      73         0.973333  \n",
       "200                      70         0.972222  \n",
       "201                      73         0.986486  \n",
       "202                      74         0.973684  \n",
       "203                      74         0.973684  \n",
       "\n",
       "[204 rows x 10 columns]"
      ]
     },
     "execution_count": 3,
     "metadata": {},
     "output_type": "execute_result"
    }
   ],
   "source": [
    "df"
   ]
  },
  {
   "cell_type": "code",
   "execution_count": 4,
   "metadata": {},
   "outputs": [],
   "source": [
    "def exam_num_df(exam_number, df):\n",
    "    exam_num_mask = df.apply(lambda x: x['question_id'].startswith(exam_number), axis=1)\n",
    "    exam_num_df = df[exam_num_mask]\n",
    "    return exam_num_df"
   ]
  },
  {
   "cell_type": "code",
   "execution_count": 5,
   "metadata": {},
   "outputs": [],
   "source": [
    "exam_1_df = exam_num_df('1', df)\n",
    "exam_2_df = exam_num_df('2', df)\n",
    "exam_3_df = exam_num_df('3', df)\n",
    "exam_4_df = exam_num_df('4', df)"
   ]
  },
  {
   "cell_type": "code",
   "execution_count": 7,
   "metadata": {},
   "outputs": [
    {
     "data": {
      "text/plain": [
       "<Axes: xlabel='item_difficulty', ylabel='pbc'>"
      ]
     },
     "execution_count": 7,
     "metadata": {},
     "output_type": "execute_result"
    },
    {
     "data": {
      "image/png": "[encoded data removed]",
      "text/plain": [
       "<Figure size 640x480 with 1 Axes>"
      ]
     },
     "metadata": {},
     "output_type": "display_data"
    }
   ],
   "source": [
    "df.plot.scatter('item_difficulty', 'pbc')"
   ]
  },
  {
   "cell_type": "code",
   "execution_count": 8,
   "metadata": {},
   "outputs": [
    {
     "data": {
      "text/html": [
       "<div>\n",
       "<style scoped>\n",
       "    .dataframe tbody tr th:only-of-type {\n",
       "        vertical-align: middle;\n",
       "    }\n",
       "\n",
       "    .dataframe tbody tr th {\n",
       "        vertical-align: top;\n",
       "    }\n",
       "\n",
       "    .dataframe thead th {\n",
       "        text-align: right;\n",
       "    }\n",
       "</style>\n",
       "<table border=\"1\" class=\"dataframe\">\n",
       "  <thead>\n",
       "    <tr style=\"text-align: right;\">\n",
       "      <th></th>\n",
       "      <th>item_difficulty</th>\n",
       "      <th>var_estimates_items</th>\n",
       "    </tr>\n",
       "  </thead>\n",
       "  <tbody>\n",
       "    <tr>\n",
       "      <th>item_difficulty</th>\n",
       "      <td>1.000000</td>\n",
       "      <td>-0.951766</td>\n",
       "    </tr>\n",
       "    <tr>\n",
       "      <th>var_estimates_items</th>\n",
       "      <td>-0.951766</td>\n",
       "      <td>1.000000</td>\n",
       "    </tr>\n",
       "  </tbody>\n",
       "</table>\n",
       "</div>"
      ],
      "text/plain": [
       "                     item_difficulty  var_estimates_items\n",
       "item_difficulty             1.000000            -0.951766\n",
       "var_estimates_items        -0.951766             1.000000"
      ]
     },
     "execution_count": 8,
     "metadata": {},
     "output_type": "execute_result"
    }
   ],
   "source": [
    "df[['item_difficulty', 'var_estimates_items']].corr()"
   ]
  },
  {
   "cell_type": "code",
   "execution_count": 9,
   "metadata": {},
   "outputs": [
    {
     "data": {
      "text/html": [
       "<div>\n",
       "<style scoped>\n",
       "    .dataframe tbody tr th:only-of-type {\n",
       "        vertical-align: middle;\n",
       "    }\n",
       "\n",
       "    .dataframe tbody tr th {\n",
       "        vertical-align: top;\n",
       "    }\n",
       "\n",
       "    .dataframe thead th {\n",
       "        text-align: right;\n",
       "    }\n",
       "</style>\n",
       "<table border=\"1\" class=\"dataframe\">\n",
       "  <thead>\n",
       "    <tr style=\"text-align: right;\">\n",
       "      <th></th>\n",
       "      <th>var_estimates_items</th>\n",
       "      <th>pbc</th>\n",
       "    </tr>\n",
       "  </thead>\n",
       "  <tbody>\n",
       "    <tr>\n",
       "      <th>var_estimates_items</th>\n",
       "      <td>1.000000</td>\n",
       "      <td>-0.353987</td>\n",
       "    </tr>\n",
       "    <tr>\n",
       "      <th>pbc</th>\n",
       "      <td>-0.353987</td>\n",
       "      <td>1.000000</td>\n",
       "    </tr>\n",
       "  </tbody>\n",
       "</table>\n",
       "</div>"
      ],
      "text/plain": [
       "                     var_estimates_items       pbc\n",
       "var_estimates_items             1.000000 -0.353987\n",
       "pbc                            -0.353987  1.000000"
      ]
     },
     "execution_count": 9,
     "metadata": {},
     "output_type": "execute_result"
    }
   ],
   "source": [
    "df[['var_estimates_items', 'pbc']].corr()"
   ]
  },
  {
   "cell_type": "code",
   "execution_count": 11,
   "metadata": {},
   "outputs": [
    {
     "data": {
      "text/plain": [
       "<Axes: xlabel='var_estimates_items', ylabel='pbc'>"
      ]
     },
     "execution_count": 11,
     "metadata": {},
     "output_type": "execute_result"
    },
    {
     "data": {
      "image/png": "[encoded data removed]",
      "text/plain": [
       "<Figure size 640x480 with 1 Axes>"
      ]
     },
     "metadata": {},
     "output_type": "display_data"
    }
   ],
   "source": [
    "df.plot.scatter('var_estimates_items', 'pbc')"
   ]
  },
  {
   "cell_type": "code",
   "execution_count": 10,
   "metadata": {},
   "outputs": [
    {
     "data": {
      "text/plain": [
       "<Axes: xlabel='var_estimates_items', ylabel='item_difficulty'>"
      ]
     },
     "execution_count": 10,
     "metadata": {},
     "output_type": "execute_result"
    },
    {
     "data": {
      "image/png": "[encoded data removed]",
      "text/plain": [
       "<Figure size 640x480 with 1 Axes>"
      ]
     },
     "metadata": {},
     "output_type": "display_data"
    }
   ],
   "source": [
    "df.plot.scatter('var_estimates_items', 'item_difficulty')"
   ]
  },
  {
   "cell_type": "markdown",
   "metadata": {},
   "source": [
    "## Student Analysis"
   ]
  },
  {
   "cell_type": "code",
   "execution_count": null,
   "metadata": {},
   "outputs": [],
   "source": [
    "student_df = "
   ]
  }
 ],
 "metadata": {
  "kernelspec": {
   "display_name": "Python 3",
   "language": "python",
   "name": "python3"
  },
  "language_info": {
   "codemirror_mode": {
    "name": "ipython",
    "version": 3
   },
   "file_extension": ".py",
   "mimetype": "text/x-python",
   "name": "python",
   "nbconvert_exporter": "python",
   "pygments_lexer": "ipython3",
   "version": "3.12.8"
  }
 },
 "nbformat": 4,
 "nbformat_minor": 2
}
